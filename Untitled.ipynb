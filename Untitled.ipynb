{
 "cells": [
  {
   "cell_type": "code",
   "execution_count": 4,
   "id": "e9d2a3f4-fe64-4ad0-bc01-05b195063556",
   "metadata": {},
   "outputs": [],
   "source": [
    "#importing necessary packages\n",
    "import os\n",
    "import pandas as pd\n",
    "import itertools"
   ]
  },
  {
   "cell_type": "code",
   "execution_count": 5,
   "id": "373e829e-2fbd-4e29-9c3a-5fea18bea7db",
   "metadata": {},
   "outputs": [],
   "source": [
    "#definging the property id startdate and endingdate\n",
    "#the property is of the google analytics account \n",
    "\n",
    "property_id = \"270774103\"\n",
    "\n",
    "#the starting and ending date of the data to be fetched\n",
    "starting_date = \"8daysAgo\"\n",
    "ending_date = \"yesterday\""
   ]
  },
  {
   "cell_type": "code",
   "execution_count": 6,
   "id": "dbf3752e-850e-4bc4-8b1c-57b53a897452",
   "metadata": {},
   "outputs": [],
   "source": [
    "#configuring the credentials from the json\n",
    "os.environ['GOOGLE_APPLICATION_CREDENTIALS'] = 'ga4-project-417215-fee6fa0e720c.json'"
   ]
  },
  {
   "cell_type": "code",
   "execution_count": 7,
   "id": "1dee1000-6ab8-4644-a231-c7a7a2bbe1df",
   "metadata": {},
   "outputs": [
    {
     "name": "stdout",
     "output_type": "stream",
     "text": [
      "Requirement already satisfied: google-analytics-data in /home/shanks/notebook/lib/python3.10/site-packages (0.18.7)\n",
      "Requirement already satisfied: google-api-core!=2.0.*,!=2.1.*,!=2.10.*,!=2.2.*,!=2.3.*,!=2.4.*,!=2.5.*,!=2.6.*,!=2.7.*,!=2.8.*,!=2.9.*,<3.0.0dev,>=1.34.1 in /home/shanks/notebook/lib/python3.10/site-packages (from google-api-core[grpc]!=2.0.*,!=2.1.*,!=2.10.*,!=2.2.*,!=2.3.*,!=2.4.*,!=2.5.*,!=2.6.*,!=2.7.*,!=2.8.*,!=2.9.*,<3.0.0dev,>=1.34.1->google-analytics-data) (2.17.1)\n",
      "Requirement already satisfied: google-auth!=2.24.0,!=2.25.0,<3.0.0dev,>=2.14.1 in /home/shanks/notebook/lib/python3.10/site-packages (from google-analytics-data) (2.28.2)\n",
      "Requirement already satisfied: proto-plus<2.0.0dev,>=1.22.3 in /home/shanks/notebook/lib/python3.10/site-packages (from google-analytics-data) (1.23.0)\n",
      "Requirement already satisfied: protobuf!=3.20.0,!=3.20.1,!=4.21.0,!=4.21.1,!=4.21.2,!=4.21.3,!=4.21.4,!=4.21.5,<5.0.0dev,>=3.19.5 in /home/shanks/notebook/lib/python3.10/site-packages (from google-analytics-data) (4.25.3)\n",
      "Requirement already satisfied: googleapis-common-protos<2.0.dev0,>=1.56.2 in /home/shanks/notebook/lib/python3.10/site-packages (from google-api-core!=2.0.*,!=2.1.*,!=2.10.*,!=2.2.*,!=2.3.*,!=2.4.*,!=2.5.*,!=2.6.*,!=2.7.*,!=2.8.*,!=2.9.*,<3.0.0dev,>=1.34.1->google-api-core[grpc]!=2.0.*,!=2.1.*,!=2.10.*,!=2.2.*,!=2.3.*,!=2.4.*,!=2.5.*,!=2.6.*,!=2.7.*,!=2.8.*,!=2.9.*,<3.0.0dev,>=1.34.1->google-analytics-data) (1.63.0)\n",
      "Requirement already satisfied: requests<3.0.0.dev0,>=2.18.0 in /home/shanks/notebook/lib/python3.10/site-packages (from google-api-core!=2.0.*,!=2.1.*,!=2.10.*,!=2.2.*,!=2.3.*,!=2.4.*,!=2.5.*,!=2.6.*,!=2.7.*,!=2.8.*,!=2.9.*,<3.0.0dev,>=1.34.1->google-api-core[grpc]!=2.0.*,!=2.1.*,!=2.10.*,!=2.2.*,!=2.3.*,!=2.4.*,!=2.5.*,!=2.6.*,!=2.7.*,!=2.8.*,!=2.9.*,<3.0.0dev,>=1.34.1->google-analytics-data) (2.31.0)\n",
      "Requirement already satisfied: grpcio<2.0dev,>=1.33.2 in /home/shanks/notebook/lib/python3.10/site-packages (from google-api-core[grpc]!=2.0.*,!=2.1.*,!=2.10.*,!=2.2.*,!=2.3.*,!=2.4.*,!=2.5.*,!=2.6.*,!=2.7.*,!=2.8.*,!=2.9.*,<3.0.0dev,>=1.34.1->google-analytics-data) (1.62.1)\n",
      "Requirement already satisfied: grpcio-status<2.0.dev0,>=1.33.2 in /home/shanks/notebook/lib/python3.10/site-packages (from google-api-core[grpc]!=2.0.*,!=2.1.*,!=2.10.*,!=2.2.*,!=2.3.*,!=2.4.*,!=2.5.*,!=2.6.*,!=2.7.*,!=2.8.*,!=2.9.*,<3.0.0dev,>=1.34.1->google-analytics-data) (1.62.1)\n",
      "Requirement already satisfied: cachetools<6.0,>=2.0.0 in /home/shanks/notebook/lib/python3.10/site-packages (from google-auth!=2.24.0,!=2.25.0,<3.0.0dev,>=2.14.1->google-analytics-data) (5.3.3)\n",
      "Requirement already satisfied: pyasn1-modules>=0.2.1 in /home/shanks/notebook/lib/python3.10/site-packages (from google-auth!=2.24.0,!=2.25.0,<3.0.0dev,>=2.14.1->google-analytics-data) (0.3.0)\n",
      "Requirement already satisfied: rsa<5,>=3.1.4 in /home/shanks/notebook/lib/python3.10/site-packages (from google-auth!=2.24.0,!=2.25.0,<3.0.0dev,>=2.14.1->google-analytics-data) (4.9)\n",
      "Requirement already satisfied: pyasn1<0.6.0,>=0.4.6 in /home/shanks/notebook/lib/python3.10/site-packages (from pyasn1-modules>=0.2.1->google-auth!=2.24.0,!=2.25.0,<3.0.0dev,>=2.14.1->google-analytics-data) (0.5.1)\n",
      "Requirement already satisfied: charset-normalizer<4,>=2 in /home/shanks/notebook/lib/python3.10/site-packages (from requests<3.0.0.dev0,>=2.18.0->google-api-core!=2.0.*,!=2.1.*,!=2.10.*,!=2.2.*,!=2.3.*,!=2.4.*,!=2.5.*,!=2.6.*,!=2.7.*,!=2.8.*,!=2.9.*,<3.0.0dev,>=1.34.1->google-api-core[grpc]!=2.0.*,!=2.1.*,!=2.10.*,!=2.2.*,!=2.3.*,!=2.4.*,!=2.5.*,!=2.6.*,!=2.7.*,!=2.8.*,!=2.9.*,<3.0.0dev,>=1.34.1->google-analytics-data) (3.3.2)\n",
      "Requirement already satisfied: idna<4,>=2.5 in /home/shanks/notebook/lib/python3.10/site-packages (from requests<3.0.0.dev0,>=2.18.0->google-api-core!=2.0.*,!=2.1.*,!=2.10.*,!=2.2.*,!=2.3.*,!=2.4.*,!=2.5.*,!=2.6.*,!=2.7.*,!=2.8.*,!=2.9.*,<3.0.0dev,>=1.34.1->google-api-core[grpc]!=2.0.*,!=2.1.*,!=2.10.*,!=2.2.*,!=2.3.*,!=2.4.*,!=2.5.*,!=2.6.*,!=2.7.*,!=2.8.*,!=2.9.*,<3.0.0dev,>=1.34.1->google-analytics-data) (3.6)\n",
      "Requirement already satisfied: urllib3<3,>=1.21.1 in /home/shanks/notebook/lib/python3.10/site-packages (from requests<3.0.0.dev0,>=2.18.0->google-api-core!=2.0.*,!=2.1.*,!=2.10.*,!=2.2.*,!=2.3.*,!=2.4.*,!=2.5.*,!=2.6.*,!=2.7.*,!=2.8.*,!=2.9.*,<3.0.0dev,>=1.34.1->google-api-core[grpc]!=2.0.*,!=2.1.*,!=2.10.*,!=2.2.*,!=2.3.*,!=2.4.*,!=2.5.*,!=2.6.*,!=2.7.*,!=2.8.*,!=2.9.*,<3.0.0dev,>=1.34.1->google-analytics-data) (2.2.1)\n",
      "Requirement already satisfied: certifi>=2017.4.17 in /home/shanks/notebook/lib/python3.10/site-packages (from requests<3.0.0.dev0,>=2.18.0->google-api-core!=2.0.*,!=2.1.*,!=2.10.*,!=2.2.*,!=2.3.*,!=2.4.*,!=2.5.*,!=2.6.*,!=2.7.*,!=2.8.*,!=2.9.*,<3.0.0dev,>=1.34.1->google-api-core[grpc]!=2.0.*,!=2.1.*,!=2.10.*,!=2.2.*,!=2.3.*,!=2.4.*,!=2.5.*,!=2.6.*,!=2.7.*,!=2.8.*,!=2.9.*,<3.0.0dev,>=1.34.1->google-analytics-data) (2024.2.2)\n"
     ]
    }
   ],
   "source": [
    "#installing necessary python packages for calling the ga4 api\n",
    "!pip install google-analytics-data"
   ]
  },
  {
   "cell_type": "code",
   "execution_count": 8,
   "id": "957d358f-dfc6-47cd-bc85-275857db574c",
   "metadata": {},
   "outputs": [],
   "source": [
    "from google.analytics.data_v1beta import BetaAnalyticsDataClient\n",
    "from google.analytics.data_v1beta.types import (\n",
    "    DateRange,\n",
    "    Dimension,\n",
    "    Metric,\n",
    "    RunReportRequest,\n",
    ")"
   ]
  },
  {
   "cell_type": "code",
   "execution_count": 9,
   "id": "b26d427d-0a5c-495f-ad19-604481a8e8da",
   "metadata": {},
   "outputs": [],
   "source": [
    "client = BetaAnalyticsDataClient()\n",
    "#there are many dimensions and metric which we can use to fetch the data \n",
    "# i am using the langindpagePlusQueryString and sessions to fetch the data from the landing page\n",
    "#there are other dimensions and metrices which we can use to fetch data from other part of the analytics\n",
    "# https://support.google.com/analytics/answer/1033861?hl=en#zippy=%2Cin-this-article\n",
    "# https://developers.google.com/analytics/devguides/reporting/data/v1/api-schema\n",
    "\n",
    "request_api = RunReportRequest(\n",
    "    property=f\"properties/{property_id}\",\n",
    "    dimensions=[\n",
    "        Dimension(name=\"landingPagePlusQueryString\")\n",
    "        ],\n",
    "        metrics=[\n",
    "            Metric(name=\"sessions\")\n",
    "        ],\n",
    "        date_ranges=[DateRange(start_date=starting_date, end_date=ending_date)],\n",
    "    )\n",
    "response = client.run_report(request_api)"
   ]
  },
  {
   "cell_type": "code",
   "execution_count": 10,
   "id": "707f9f00",
   "metadata": {},
   "outputs": [
    {
     "data": {
      "text/plain": [
       "dimension_headers {\n",
       "  name: \"landingPagePlusQueryString\"\n",
       "}\n",
       "metric_headers {\n",
       "  name: \"sessions\"\n",
       "  type_: TYPE_INTEGER\n",
       "}\n",
       "metadata {\n",
       "  currency_code: \"USD\"\n",
       "  time_zone: \"Etc/GMT\"\n",
       "}\n",
       "kind: \"analyticsData#runReport\""
      ]
     },
     "execution_count": 10,
     "metadata": {},
     "output_type": "execute_result"
    }
   ],
   "source": [
    "# printing to see whats inside the response\n",
    "response"
   ]
  },
  {
   "cell_type": "code",
   "execution_count": 11,
   "id": "4de5085f",
   "metadata": {},
   "outputs": [
    {
     "data": {
      "text/html": [
       "<div>\n",
       "<style scoped>\n",
       "    .dataframe tbody tr th:only-of-type {\n",
       "        vertical-align: middle;\n",
       "    }\n",
       "\n",
       "    .dataframe tbody tr th {\n",
       "        vertical-align: top;\n",
       "    }\n",
       "\n",
       "    .dataframe thead th {\n",
       "        text-align: right;\n",
       "    }\n",
       "</style>\n",
       "<table border=\"1\" class=\"dataframe\">\n",
       "  <thead>\n",
       "    <tr style=\"text-align: right;\">\n",
       "      <th></th>\n",
       "      <th>landingPagePlusQueryString</th>\n",
       "      <th>sessions</th>\n",
       "    </tr>\n",
       "  </thead>\n",
       "  <tbody>\n",
       "  </tbody>\n",
       "</table>\n",
       "</div>"
      ],
      "text/plain": [
       "Empty DataFrame\n",
       "Columns: [landingPagePlusQueryString, sessions]\n",
       "Index: []"
      ]
     },
     "execution_count": 11,
     "metadata": {},
     "output_type": "execute_result"
    }
   ],
   "source": [
    "def query_data(api_response):\n",
    "    dimension_headers = [header.name for header in api_response.dimension_headers]\n",
    "    metric_headers = [header.name for header in api_response.metric_headers]\n",
    "    dimensions = []\n",
    "    metrics = []\n",
    "    for i in range(len(dimension_headers)):\n",
    "        dimensions.append([row.dimension_values[i].value for row in api_response.rows])\n",
    "    dimensions\n",
    "    for i in range(len(metric_headers)):\n",
    "        metrics.append([row.metric_values[i].value for row in api_response.rows])\n",
    "    headers = dimension_headers, metric_headers\n",
    "    headers = list(itertools.chain.from_iterable(headers))   \n",
    "    data = dimensions, metrics\n",
    "    data = list(itertools.chain.from_iterable(data))\n",
    "    df = pd.DataFrame(data)\n",
    "    df = df.transpose()\n",
    "    df.columns = headers\n",
    "    return df\n",
    "\n",
    "query_data(response)"
   ]
  },
  {
   "cell_type": "code",
   "execution_count": 12,
   "id": "d2576d47",
   "metadata": {},
   "outputs": [],
   "source": [
    "#saving the data into the spreadsheet"
   ]
  },
  {
   "cell_type": "code",
   "execution_count": 13,
   "id": "86e861de",
   "metadata": {},
   "outputs": [],
   "source": [
    "final_data = query_data(response)\n",
    "final_data.to_csv('file.csv', index=False)"
   ]
  },
  {
   "cell_type": "code",
   "execution_count": null,
   "id": "74702424",
   "metadata": {},
   "outputs": [],
   "source": []
  }
 ],
 "metadata": {
  "kernelspec": {
   "display_name": "notebook",
   "language": "python",
   "name": "notebook"
  },
  "language_info": {
   "codemirror_mode": {
    "name": "ipython",
    "version": 3
   },
   "file_extension": ".py",
   "mimetype": "text/x-python",
   "name": "python",
   "nbconvert_exporter": "python",
   "pygments_lexer": "ipython3",
   "version": "3.10.12"
  }
 },
 "nbformat": 4,
 "nbformat_minor": 5
}
